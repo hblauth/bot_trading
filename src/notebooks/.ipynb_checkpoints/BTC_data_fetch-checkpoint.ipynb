{
 "cells": [
  {
   "cell_type": "markdown",
   "id": "objective-recording",
   "metadata": {},
   "source": [
    "# BTC Data download\n",
    "<a href=https://medium.com/swlh/retrieving-full-historical-data-for-every-cryptocurrency-on-binance-bitmex-using-the-python-apis-27b47fd8137f>Code Source"
   ]
  },
  {
   "cell_type": "markdown",
   "id": "understanding-latex",
   "metadata": {},
   "source": [
    "### To do:\n",
    "[ ] Add older data?\n",
    "    - Bitcoin hasn't been easily tradeable for a while so 4 years probably enough\n",
    "[ ] VWAP - what is it for?\n",
    "[ ] MACD - ML to choose these?\n",
    "[ ] "
   ]
  },
  {
   "cell_type": "code",
   "execution_count": 80,
   "id": "normal-insured",
   "metadata": {},
   "outputs": [],
   "source": [
    "# Imports\n",
    "import pandas as pd\n",
    "import os\n",
    "from dotenv import find_dotenv, load_dotenv\n",
    "import math\n",
    "import time\n",
    "import datetime as dt\n",
    "from bitmex import bitmex\n",
    "from binance.client import Client\n",
    "from datetime import timedelta, datetime\n",
    "from dateutil import parser\n",
    "from tqdm.notebook import tqdm#(Optional, used for progress-bars)"
   ]
  },
  {
   "cell_type": "code",
   "execution_count": 2,
   "id": "statewide-halloween",
   "metadata": {},
   "outputs": [],
   "source": [
    "# Load API keys & secrets\n",
    "load_dotenv(find_dotenv())\n",
    "binance_api_key = os.environ.get('BINANCE_API_KEY')\n",
    "binance_api_secret = os.environ.get('BINANCE_API_SECRET')\n",
    "bitmex_api_key = os.environ.get('BITMEX_API_KEY')\n",
    "bitmex_api_secret = os.environ.get('BITMEX_API_KEY')"
   ]
  },
  {
   "cell_type": "code",
   "execution_count": 3,
   "id": "animal-bandwidth",
   "metadata": {},
   "outputs": [
    {
     "name": "stderr",
     "output_type": "stream",
     "text": [
      "/Users/henry/anaconda3/envs/trading_venv/lib/python3.8/site-packages/swagger_spec_validator/validator20.py:49: SwaggerValidationWarning: Found \"$ref: #/definitions/UserPreferences\" with siblings that will be overwritten. See https://stackoverflow.com/a/48114924 for more information. (path #/definitions/User/properties/preferences)\n",
      "  warnings.warn(\n"
     ]
    }
   ],
   "source": [
    "# Constants\n",
    "binsizes = {\"1m\": 1, \"5m\": 5, \"1h\": 60, \"1d\": 1440}\n",
    "batch_size = 750\n",
    "binance_client = Client(api_key=binance_api_key, api_secret=binance_api_secret)\n",
    "bitmex_client = bitmex(test=False, api_key=bitmex_api_key, api_secret=bitmex_api_secret)"
   ]
  },
  {
   "cell_type": "code",
   "execution_count": 4,
   "id": "miniature-swimming",
   "metadata": {},
   "outputs": [],
   "source": [
    "### FUNCTIONS\n",
    "def minutes_of_new_data(symbol, kline_size, data, source):\n",
    "    if len(data) > 0:  old = parser.parse(data[\"timestamp\"].iloc[-1])\n",
    "    elif source == \"binance\": old = datetime.strptime('1 Jan 2017', '%d %b %Y')\n",
    "    elif source == \"bitmex\": old = bitmex_client.Trade.Trade_getBucketed(symbol=symbol, binSize=kline_size, count=1, reverse=False).result()[0][0]['timestamp']\n",
    "    if source == \"binance\": new = pd.to_datetime(binance_client.get_klines(symbol=symbol, interval=kline_size)[-1][0], unit='ms')\n",
    "    if source == \"bitmex\": new = bitmex_client.Trade.Trade_getBucketed(symbol=symbol, binSize=kline_size, count=1, reverse=True).result()[0][0]['timestamp']\n",
    "    return old, new"
   ]
  },
  {
   "cell_type": "code",
   "execution_count": 112,
   "id": "historic-blackberry",
   "metadata": {},
   "outputs": [],
   "source": [
    "# Get full historical data - ONLY NEEDED ONCE OR\n",
    "# Set start date in milliseconds\n",
    "start_str = str(dt.datetime(2017,1,1).timestamp())"
   ]
  },
  {
   "cell_type": "code",
   "execution_count": 160,
   "id": "verbal-administration",
   "metadata": {},
   "outputs": [],
   "source": [
    "# Use a generator to get full price history\n",
    "def get_full_historical_data(symbol, interval, start_str):\n",
    "    kline_data = [x for x in binance_client.get_historical_klines_generator(symbol, interval=interval, start_str=start_str)]\n",
    "\n",
    "    market_data = pd.DataFrame(kline_data)\n",
    "\n",
    "    print(f'num rows: {market_data.shape}')\n",
    "\n",
    "    market_data.columns = [['timestamp',\n",
    "                           'open',\n",
    "                           'high',\n",
    "                           'low',\n",
    "                           'close',\n",
    "                           'volume',\n",
    "                           'close_timestamp',\n",
    "                           'quote_asset_volume',\n",
    "                           'no_trades',\n",
    "                           'taker_buy_base_asset_volume',\n",
    "                           'taker_buy_quote_asset_volume',\n",
    "                           'ignore']]\n",
    "\n",
    "    try:\n",
    "        market_data.to_csv(f'binance_{symbol}_{interval}_{dt.datetime.fromtimestamp(float(start_str)).strftime(\"%Y-%m-%d\")}.csv', index=False)\n",
    "    except:\n",
    "        market_data.to_csv(f'{symbol}_1m.csv', index=False)"
   ]
  },
  {
   "cell_type": "code",
   "execution_count": 4,
   "id": "about-tobago",
   "metadata": {},
   "outputs": [],
   "source": [
    "\n",
    "def get_all_binance(symbol, kline_size, save = False):\n",
    "    filename = '%s-%s-data.csv' % (symbol, kline_size)\n",
    "    if os.path.isfile(filename): \n",
    "        data_df = pd.read_csv(filename)\n",
    "    else: \n",
    "        data_df = pd.DataFrame()\n",
    "\n",
    "    oldest_point, newest_point = minutes_of_new_data(symbol, kline_size, data_df, source = \"binance\")\n",
    "    \n",
    "    delta_min = (newest_point - oldest_point).total_seconds()/60\n",
    "    \n",
    "    available_data = math.ceil(delta_min/binsizes[kline_size])\n",
    "    \n",
    "    if oldest_point == datetime.strptime('1 Jan 2017', '%d %b %Y'): \n",
    "        print('Downloading all available %s data for %s. Be patient..!' % (kline_size, symbol))\n",
    "    else: \n",
    "        print('Downloading %d minutes of new data available for %s, i.e. %d instances of %s data.' % (delta_min, symbol, available_data, kline_size))\n",
    "\n",
    "    klines = binance_client.get_historical_klines(symbol, kline_size, oldest_point.strftime(\"%d %b %Y %H:%M:%S\"), newest_point.strftime(\"%d %b %Y %H:%M:%S\"))\n",
    "    \n",
    "    data = pd.DataFrame(klines, columns = ['timestamp', 'open', 'high', 'low', 'close', 'volume', 'close_time', 'quote_av', 'trades', 'tb_base_av', 'tb_quote_av', 'ignore' ])\n",
    "    \n",
    "    data['timestamp'] = pd.to_datetime(data['timestamp'], unit='ms')\n",
    "    \n",
    "    if len(data_df) > 0:\n",
    "        temp_df = pd.DataFrame(data)\n",
    "        data_df = data_df.append(temp_df)\n",
    "    else: \n",
    "        data_df = data\n",
    "\n",
    "    data_df.set_index('timestamp', inplace=True)\n",
    "    \n",
    "    if save: \n",
    "        data_df.to_csv(filename)\n",
    "    \n",
    "    print('All caught up..!')\n",
    "    \n",
    "    return data_df"
   ]
  },
  {
   "cell_type": "code",
   "execution_count": 15,
   "id": "sharp-austin",
   "metadata": {},
   "outputs": [
    {
     "ename": "TypeError",
     "evalue": "strptime() takes exactly 2 arguments (1 given)",
     "output_type": "error",
     "traceback": [
      "\u001b[0;31m---------------------------------------------------------------------------\u001b[0m",
      "\u001b[0;31mTypeError\u001b[0m                                 Traceback (most recent call last)",
      "\u001b[0;32m<ipython-input-15-b56ad3d2e86f>\u001b[0m in \u001b[0;36m<module>\u001b[0;34m\u001b[0m\n\u001b[1;32m      1\u001b[0m \u001b[0;31m# TEST TEST TEST\u001b[0m\u001b[0;34m\u001b[0m\u001b[0;34m\u001b[0m\u001b[0;34m\u001b[0m\u001b[0m\n\u001b[1;32m      2\u001b[0m \u001b[0;34m\u001b[0m\u001b[0m\n\u001b[0;32m----> 3\u001b[0;31m \u001b[0mdt\u001b[0m\u001b[0;34m.\u001b[0m\u001b[0mdatetime\u001b[0m\u001b[0;34m.\u001b[0m\u001b[0mstrptime\u001b[0m\u001b[0;34m(\u001b[0m\u001b[0;34m'2014-01-01 00:00:00:000'\u001b[0m\u001b[0;34m)\u001b[0m\u001b[0;34m\u001b[0m\u001b[0;34m\u001b[0m\u001b[0m\n\u001b[0m",
      "\u001b[0;31mTypeError\u001b[0m: strptime() takes exactly 2 arguments (1 given)"
     ]
    }
   ],
   "source": [
    "# TEST TEST TEST\n",
    "\n",
    "dt.datetime.strptime('2014-01-01 00:00:00:000', )"
   ]
  },
  {
   "cell_type": "code",
   "execution_count": 6,
   "id": "impressive-atlas",
   "metadata": {},
   "outputs": [
    {
     "ename": "TypeError",
     "evalue": "get_historical_klines() missing 1 required positional argument: 'start_str'",
     "output_type": "error",
     "traceback": [
      "\u001b[0;31m---------------------------------------------------------------------------\u001b[0m",
      "\u001b[0;31mTypeError\u001b[0m                                 Traceback (most recent call last)",
      "\u001b[0;32m<ipython-input-6-eea792ca81fc>\u001b[0m in \u001b[0;36m<module>\u001b[0;34m\u001b[0m\n\u001b[1;32m      1\u001b[0m \u001b[0;31m# TEST TEST TEST\u001b[0m\u001b[0;34m\u001b[0m\u001b[0;34m\u001b[0m\u001b[0;34m\u001b[0m\u001b[0m\n\u001b[1;32m      2\u001b[0m \u001b[0;31m# binance_client.get_klines()\u001b[0m\u001b[0;34m\u001b[0m\u001b[0;34m\u001b[0m\u001b[0;34m\u001b[0m\u001b[0m\n\u001b[0;32m----> 3\u001b[0;31m \u001b[0mbinance_client\u001b[0m\u001b[0;34m.\u001b[0m\u001b[0mget_historical_klines\u001b[0m\u001b[0;34m(\u001b[0m\u001b[0msymbol\u001b[0m\u001b[0;34m=\u001b[0m\u001b[0;34m'BTCUSDT'\u001b[0m\u001b[0;34m,\u001b[0m \u001b[0minterval\u001b[0m\u001b[0;34m=\u001b[0m\u001b[0;34m'1d'\u001b[0m\u001b[0;34m)\u001b[0m\u001b[0;34m\u001b[0m\u001b[0;34m\u001b[0m\u001b[0m\n\u001b[0m",
      "\u001b[0;31mTypeError\u001b[0m: get_historical_klines() missing 1 required positional argument: 'start_str'"
     ]
    }
   ],
   "source": [
    "binance_client.get_historical_klines(symbol='BTCUSDT', interval='1d', start_str=pd.todatetime())"
   ]
  },
  {
   "cell_type": "code",
   "execution_count": 6,
   "id": "comic-action",
   "metadata": {},
   "outputs": [
    {
     "ename": "TypeError",
     "evalue": "get_historical_klines() missing 1 required positional argument: 'start_str'",
     "output_type": "error",
     "traceback": [
      "\u001b[0;31m---------------------------------------------------------------------------\u001b[0m",
      "\u001b[0;31mTypeError\u001b[0m                                 Traceback (most recent call last)",
      "\u001b[0;32m<ipython-input-6-eea792ca81fc>\u001b[0m in \u001b[0;36m<module>\u001b[0;34m\u001b[0m\n\u001b[1;32m      1\u001b[0m \u001b[0;31m# TEST TEST TEST\u001b[0m\u001b[0;34m\u001b[0m\u001b[0;34m\u001b[0m\u001b[0;34m\u001b[0m\u001b[0m\n\u001b[1;32m      2\u001b[0m \u001b[0;31m# binance_client.get_klines()\u001b[0m\u001b[0;34m\u001b[0m\u001b[0;34m\u001b[0m\u001b[0;34m\u001b[0m\u001b[0m\n\u001b[0;32m----> 3\u001b[0;31m \u001b[0mbinance_client\u001b[0m\u001b[0;34m.\u001b[0m\u001b[0mget_historical_klines\u001b[0m\u001b[0;34m(\u001b[0m\u001b[0msymbol\u001b[0m\u001b[0;34m=\u001b[0m\u001b[0;34m'BTCUSDT'\u001b[0m\u001b[0;34m,\u001b[0m \u001b[0minterval\u001b[0m\u001b[0;34m=\u001b[0m\u001b[0;34m'1d'\u001b[0m\u001b[0;34m)\u001b[0m\u001b[0;34m\u001b[0m\u001b[0;34m\u001b[0m\u001b[0m\n\u001b[0m",
      "\u001b[0;31mTypeError\u001b[0m: get_historical_klines() missing 1 required positional argument: 'start_str'"
     ]
    }
   ],
   "source": [
    "# TEST TEST TEST\n",
    "# binance_client.get_klines()\n",
    "binance_client.get_historical_klines_generator(symbol='BTCUSDT', interval='1d', start_str='')"
   ]
  },
  {
   "cell_type": "code",
   "execution_count": null,
   "id": "christian-citizenship",
   "metadata": {},
   "outputs": [],
   "source": [
    "# binance data in months\n",
    "def get_all_binance_monthly(symbol, kline_size, data, source):\n",
    "    filename = f'{symbol}-{kline_size}-data.csv'\n",
    "    if os.path.isfile(filename):\n",
    "        data_df = pd.read_csv('filename')"
   ]
  },
  {
   "cell_type": "code",
   "execution_count": 4,
   "id": "committed-retrieval",
   "metadata": {},
   "outputs": [],
   "source": [
    "def get_all_bitmex(symbol, kline_size, save = False):\n",
    "    filename = '%s-%s-data.csv' % (symbol, kline_size)\n",
    "    if os.path.isfile(filename): data_df = pd.read_csv(filename)\n",
    "    else: data_df = pd.DataFrame()\n",
    "    oldest_point, newest_point = minutes_of_new_data(symbol, kline_size, data_df, source = \"bitmex\")\n",
    "    delta_min = (newest_point - oldest_point).total_seconds()/60\n",
    "    available_data = math.ceil(delta_min/binsizes[kline_size])\n",
    "    rounds = math.ceil(available_data / batch_size)\n",
    "    if rounds > 0:\n",
    "        print('Downloading %d minutes of new data available for %s, i.e. %d instances of %s data in %d rounds.' % (delta_min, symbol, available_data, kline_size, rounds))\n",
    "        for round_num in tqdm_notebook(range(rounds)):\n",
    "            time.sleep(1)\n",
    "            new_time = (oldest_point + timedelta(minutes = round_num * batch_size * binsizes[kline_size]))\n",
    "            data = bitmex_client.Trade.Trade_getBucketed(symbol=symbol, binSize=kline_size, count=batch_size, startTime = new_time).result()[0]\n",
    "            temp_df = pd.DataFrame(data)\n",
    "            data_df = data_df.append(temp_df)\n",
    "    data_df.set_index('timestamp', inplace=True)\n",
    "    if save and rounds > 0: data_df.to_csv(filename)\n",
    "    print('All caught up..!')\n",
    "    return data_df"
   ]
  },
  {
   "cell_type": "code",
   "execution_count": null,
   "id": "public-conjunction",
   "metadata": {},
   "outputs": [],
   "source": [
    "# Get all binance data\n",
    "binance_symbols = [\"BTCUSDT\", \"ETHBTC\", \"XRPBTC\"]\n",
    "for symbol in binance_symbols:\n",
    "    get_all_binance(symbol, '1m', save = True)"
   ]
  },
  {
   "cell_type": "code",
   "execution_count": null,
   "id": "dying-immune",
   "metadata": {},
   "outputs": [],
   "source": [
    "# Get all BitMex data\n",
    "bitmex_symbols = [\"XBTUSD\", \"ETHM19\", \"XRPM19\"]\n",
    "for symbol in bitmex_symbols:\n",
    "    get_all_bitmex(symbol, '1m', save = True)"
   ]
  },
  {
   "cell_type": "code",
   "execution_count": null,
   "id": "standard-england",
   "metadata": {},
   "outputs": [],
   "source": []
  },
  {
   "cell_type": "code",
   "execution_count": null,
   "id": "nominated-baseline",
   "metadata": {},
   "outputs": [],
   "source": []
  }
 ],
 "metadata": {
  "kernelspec": {
   "display_name": "Python 3",
   "language": "python",
   "name": "python3"
  },
  "language_info": {
   "codemirror_mode": {
    "name": "ipython",
    "version": 3
   },
   "file_extension": ".py",
   "mimetype": "text/x-python",
   "name": "python",
   "nbconvert_exporter": "python",
   "pygments_lexer": "ipython3",
   "version": "3.8.6"
  }
 },
 "nbformat": 4,
 "nbformat_minor": 5
}
